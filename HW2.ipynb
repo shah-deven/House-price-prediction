{
 "cells": [
  {
   "cell_type": "code",
   "execution_count": 1,
   "metadata": {},
   "outputs": [],
   "source": [
    "import pandas\n",
    "import numpy\n",
    "import math\n",
    "import scipy\n",
    "\n",
    "#for calculating pearson correlation\n",
    "from scipy.stats.stats import pearsonr\n",
    "from sklearn import linear_model\n",
    "\n",
    "# for visualizing data\n",
    "import seaborn as sns\n",
    "from matplotlib import pyplot"
   ]
  },
  {
   "cell_type": "markdown",
   "metadata": {},
   "source": [
    "#### Read data from properties_2016.csv file. It contains around 2.9 million records "
   ]
  },
  {
   "cell_type": "code",
   "execution_count": 2,
   "metadata": {},
   "outputs": [
    {
     "name": "stderr",
     "output_type": "stream",
     "text": [
      "/usr/local/lib/python3.4/dist-packages/IPython/core/interactiveshell.py:2728: DtypeWarning: Columns (22,32,34,49,55) have mixed types. Specify dtype option on import or set low_memory=False.\n",
      "  interactivity=interactivity, compiler=compiler, result=result)\n"
     ]
    }
   ],
   "source": [
    "data_file = pandas.read_csv('properties_2016.csv')"
   ]
  },
  {
   "cell_type": "markdown",
   "metadata": {},
   "source": [
    "#### Finding Pearson correlation between two variables to build heatmap"
   ]
  },
  {
   "cell_type": "code",
   "execution_count": 3,
   "metadata": {},
   "outputs": [
    {
     "data": {
      "text/plain": [
       "(0.32639501418132333, 0.0)"
      ]
     },
     "execution_count": 3,
     "metadata": {},
     "output_type": "execute_result"
    }
   ],
   "source": [
    "features = ['taxvaluedollarcnt', 'bathroomcnt']\n",
    "X = data_file[features]\n",
    "X = X.dropna()\n",
    "scipy.stats.pearsonr(X.taxvaluedollarcnt.dropna(), X.bathroomcnt.dropna())"
   ]
  },
  {
   "cell_type": "code",
   "execution_count": 4,
   "metadata": {},
   "outputs": [
    {
     "data": {
      "text/plain": [
       "(0.14742560470130259, 0.0)"
      ]
     },
     "execution_count": 4,
     "metadata": {},
     "output_type": "execute_result"
    }
   ],
   "source": [
    "features = ['taxvaluedollarcnt', 'bedroomcnt']\n",
    "X = data_file[features]\n",
    "X = X.dropna()\n",
    "scipy.stats.pearsonr(X.taxvaluedollarcnt.dropna(), X.bedroomcnt.dropna())"
   ]
  },
  {
   "cell_type": "code",
   "execution_count": 5,
   "metadata": {},
   "outputs": [
    {
     "data": {
      "text/plain": [
       "(0.53577261167333556, 0.0)"
      ]
     },
     "execution_count": 5,
     "metadata": {},
     "output_type": "execute_result"
    }
   ],
   "source": [
    "features = ['taxvaluedollarcnt', 'calculatedfinishedsquarefeet']\n",
    "X = data_file[features]\n",
    "X = X.dropna()\n",
    "scipy.stats.pearsonr(X.taxvaluedollarcnt.dropna(), X.calculatedfinishedsquarefeet.dropna())"
   ]
  },
  {
   "cell_type": "code",
   "execution_count": 6,
   "metadata": {},
   "outputs": [
    {
     "data": {
      "text/plain": [
       "(0.84645596048027294, 0.0)"
      ]
     },
     "execution_count": 6,
     "metadata": {},
     "output_type": "execute_result"
    }
   ],
   "source": [
    "features = ['taxvaluedollarcnt', 'structuretaxvaluedollarcnt']\n",
    "X = data_file[features]\n",
    "X = X.dropna()\n",
    "scipy.stats.pearsonr(X.taxvaluedollarcnt.dropna(), X.structuretaxvaluedollarcnt.dropna())"
   ]
  },
  {
   "cell_type": "code",
   "execution_count": 7,
   "metadata": {},
   "outputs": [
    {
     "data": {
      "text/plain": [
       "(0.26135735214871703, 0.0)"
      ]
     },
     "execution_count": 7,
     "metadata": {},
     "output_type": "execute_result"
    }
   ],
   "source": [
    "features = ['calculatedfinishedsquarefeet', 'bedroomcnt']\n",
    "X = data_file[features]\n",
    "X = X.dropna()\n",
    "scipy.stats.pearsonr(X.calculatedfinishedsquarefeet.dropna(), X.bedroomcnt.dropna())"
   ]
  },
  {
   "cell_type": "code",
   "execution_count": 8,
   "metadata": {},
   "outputs": [
    {
     "data": {
      "text/plain": [
       "(0.55015098126037443, 0.0)"
      ]
     },
     "execution_count": 8,
     "metadata": {},
     "output_type": "execute_result"
    }
   ],
   "source": [
    "features = ['calculatedfinishedsquarefeet', 'fireplacecnt']\n",
    "X = data_file[features]\n",
    "X = X.dropna()\n",
    "scipy.stats.pearsonr(X.calculatedfinishedsquarefeet.dropna(), X.fireplacecnt.dropna())"
   ]
  },
  {
   "cell_type": "code",
   "execution_count": 9,
   "metadata": {},
   "outputs": [
    {
     "data": {
      "text/plain": [
       "(0.036318323401012334, 0.0)"
      ]
     },
     "execution_count": 9,
     "metadata": {},
     "output_type": "execute_result"
    }
   ],
   "source": [
    "features = ['calculatedfinishedsquarefeet', 'roomcnt']\n",
    "X = data_file[features]\n",
    "X = X.dropna()\n",
    "scipy.stats.pearsonr(X.calculatedfinishedsquarefeet.dropna(), X.roomcnt.dropna())"
   ]
  },
  {
   "cell_type": "code",
   "execution_count": 10,
   "metadata": {},
   "outputs": [
    {
     "data": {
      "text/plain": [
       "(0.062613063696511512, 0.0)"
      ]
     },
     "execution_count": 10,
     "metadata": {},
     "output_type": "execute_result"
    }
   ],
   "source": [
    "features = ['roomcnt', 'bathroomcnt']\n",
    "X = data_file[features]\n",
    "X = X.dropna()\n",
    "scipy.stats.pearsonr(X.roomcnt.dropna(), X.bathroomcnt.dropna())"
   ]
  },
  {
   "cell_type": "code",
   "execution_count": 11,
   "metadata": {},
   "outputs": [
    {
     "data": {
      "text/plain": [
       "(0.70114055647703288, 0.0)"
      ]
     },
     "execution_count": 11,
     "metadata": {},
     "output_type": "execute_result"
    }
   ],
   "source": [
    "features = ['bedroomcnt', 'bathroomcnt']\n",
    "X = data_file[features]\n",
    "X = X.dropna()\n",
    "scipy.stats.pearsonr(X.bedroomcnt.dropna(), X.bathroomcnt.dropna())"
   ]
  },
  {
   "cell_type": "code",
   "execution_count": 12,
   "metadata": {},
   "outputs": [
    {
     "data": {
      "text/plain": [
       "(0.18294453753182255, 0.0)"
      ]
     },
     "execution_count": 12,
     "metadata": {},
     "output_type": "execute_result"
    }
   ],
   "source": [
    "features = ['bedroomcnt', 'fireplacecnt']\n",
    "X = data_file[features]\n",
    "X = X.dropna()\n",
    "scipy.stats.pearsonr(X.bedroomcnt.dropna(), X.fireplacecnt.dropna())"
   ]
  },
  {
   "cell_type": "code",
   "execution_count": 13,
   "metadata": {},
   "outputs": [
    {
     "data": {
      "text/plain": [
       "(0.40692670795411456, 0.0)"
      ]
     },
     "execution_count": 13,
     "metadata": {},
     "output_type": "execute_result"
    }
   ],
   "source": [
    "features = ['fireplacecnt', 'bathroomcnt']\n",
    "X = data_file[features]\n",
    "X = X.dropna()\n",
    "scipy.stats.pearsonr(X.fireplacecnt.dropna(), X.bathroomcnt.dropna())"
   ]
  },
  {
   "cell_type": "code",
   "execution_count": 14,
   "metadata": {},
   "outputs": [
    {
     "data": {
      "text/plain": [
       "(0.48817868941879489, 0.0)"
      ]
     },
     "execution_count": 14,
     "metadata": {},
     "output_type": "execute_result"
    }
   ],
   "source": [
    "features = ['fireplacecnt', 'structuretaxvaluedollarcnt']\n",
    "X = data_file[features]\n",
    "X = X.dropna()\n",
    "scipy.stats.pearsonr(X.fireplacecnt.dropna(), X.structuretaxvaluedollarcnt.dropna())"
   ]
  },
  {
   "cell_type": "code",
   "execution_count": 15,
   "metadata": {},
   "outputs": [
    {
     "data": {
      "text/plain": [
       "(-0.016016046921298894, 1.6856718921856608e-165)"
      ]
     },
     "execution_count": 15,
     "metadata": {},
     "output_type": "execute_result"
    }
   ],
   "source": [
    "features = ['roomcnt', 'structuretaxvaluedollarcnt']\n",
    "X = data_file[features]\n",
    "X = X.dropna()\n",
    "scipy.stats.pearsonr(X.roomcnt.dropna(), X.structuretaxvaluedollarcnt.dropna())"
   ]
  },
  {
   "cell_type": "code",
   "execution_count": 16,
   "metadata": {},
   "outputs": [
    {
     "data": {
      "text/plain": [
       "(0.16288186775175609, 0.0)"
      ]
     },
     "execution_count": 16,
     "metadata": {},
     "output_type": "execute_result"
    }
   ],
   "source": [
    "features = ['roomcnt', 'bedroomcnt']\n",
    "X = data_file[features]\n",
    "X = X.dropna()\n",
    "scipy.stats.pearsonr(X.roomcnt.dropna(), X.bedroomcnt.dropna())"
   ]
  },
  {
   "cell_type": "code",
   "execution_count": 17,
   "metadata": {},
   "outputs": [
    {
     "data": {
      "text/plain": [
       "(0.12792030569813512, 0.0)"
      ]
     },
     "execution_count": 17,
     "metadata": {},
     "output_type": "execute_result"
    }
   ],
   "source": [
    "features = ['bedroomcnt', 'structuretaxvaluedollarcnt']\n",
    "X = data_file[features]\n",
    "X = X.dropna()\n",
    "scipy.stats.pearsonr(X.bedroomcnt.dropna(), X.structuretaxvaluedollarcnt.dropna())"
   ]
  },
  {
   "cell_type": "markdown",
   "metadata": {},
   "source": [
    "### Create a data frame consisting of correlations between variables for plotting a heatmap"
   ]
  },
  {
   "cell_type": "code",
   "execution_count": 18,
   "metadata": {},
   "outputs": [],
   "source": [
    "data2 = [{'roomcnt': 0.65889184490616992, 'bedroomcnt': 0.70114055647703288, 'fireplacecnt':0.40692670795411456, 'taxvaluedollarcnt':0.32639501418132333}, {'roomcnt': 0.16288186775175609, 'bedroomcnt': 1, 'fireplacecnt':0.18294453753182255, 'taxvaluedollarcnt':0.14742560470130259}, {'roomcnt': 0.036318323401012334, 'bedroomcnt': 0.26135735214871703, 'fireplacecnt':0.55015098126037443, 'taxvaluedollarcnt':0.53577261167333556}, {'roomcnt': -0.016016046921298894, 'bedroomcnt': 0.12792030569813512, 'fireplacecnt':0.48817868941879489, 'taxvaluedollarcnt':0.84645596048027294}]"
   ]
  },
  {
   "cell_type": "code",
   "execution_count": 19,
   "metadata": {},
   "outputs": [
    {
     "data": {
      "text/plain": [
       "(0.10204691690133319, 0.0)"
      ]
     },
     "execution_count": 19,
     "metadata": {},
     "output_type": "execute_result"
    }
   ],
   "source": [
    "features = ['taxamount', 'numberofstories']\n",
    "X = data_file[features]\n",
    "X = X.dropna()\n",
    "scipy.stats.pearsonr(X.taxamount.dropna(), X.numberofstories.dropna())"
   ]
  },
  {
   "cell_type": "code",
   "execution_count": 20,
   "metadata": {},
   "outputs": [
    {
     "data": {
      "text/plain": [
       "(0.091278341081512712, 0.0)"
      ]
     },
     "execution_count": 20,
     "metadata": {},
     "output_type": "execute_result"
    }
   ],
   "source": [
    "features = ['landtaxvaluedollarcnt', 'numberofstories']\n",
    "X = data_file[features]\n",
    "X = X.dropna()\n",
    "scipy.stats.pearsonr(X.landtaxvaluedollarcnt.dropna(), X.numberofstories.dropna())"
   ]
  },
  {
   "cell_type": "code",
   "execution_count": 21,
   "metadata": {},
   "outputs": [
    {
     "data": {
      "text/plain": [
       "(0.0013156198368922433, 0.295616938314542)"
      ]
     },
     "execution_count": 21,
     "metadata": {},
     "output_type": "execute_result"
    }
   ],
   "source": [
    "features = ['lotsizesquarefeet', 'numberofstories']\n",
    "X = data_file[features]\n",
    "X = X.dropna()\n",
    "scipy.stats.pearsonr(X.lotsizesquarefeet.dropna(), X.numberofstories.dropna())"
   ]
  },
  {
   "cell_type": "code",
   "execution_count": 22,
   "metadata": {},
   "outputs": [
    {
     "data": {
      "text/plain": [
       "(-0.00029434300036887808, 0.62808582478933705)"
      ]
     },
     "execution_count": 22,
     "metadata": {},
     "output_type": "execute_result"
    }
   ],
   "source": [
    "features = ['landtaxvaluedollarcnt', 'lotsizesquarefeet']\n",
    "X = data_file[features]\n",
    "X = X.dropna()\n",
    "scipy.stats.pearsonr(X.landtaxvaluedollarcnt.dropna(), X.lotsizesquarefeet.dropna())"
   ]
  },
  {
   "cell_type": "code",
   "execution_count": 23,
   "metadata": {},
   "outputs": [
    {
     "data": {
      "text/plain": [
       "(0.00364479226088525, 2.0828295754870586e-09)"
      ]
     },
     "execution_count": 23,
     "metadata": {},
     "output_type": "execute_result"
    }
   ],
   "source": [
    "features = ['taxamount', 'lotsizesquarefeet']\n",
    "X = data_file[features]\n",
    "X = X.dropna()\n",
    "scipy.stats.pearsonr(X.taxamount.dropna(), X.lotsizesquarefeet.dropna())"
   ]
  },
  {
   "cell_type": "code",
   "execution_count": 24,
   "metadata": {},
   "outputs": [
    {
     "data": {
      "text/plain": [
       "(0.006889415921447423, 3.7639124559036261e-09)"
      ]
     },
     "execution_count": 24,
     "metadata": {},
     "output_type": "execute_result"
    }
   ],
   "source": [
    "features = ['garagetotalsqft', 'lotsizesquarefeet']\n",
    "X = data_file[features]\n",
    "X = X.dropna()\n",
    "scipy.stats.pearsonr(X.garagetotalsqft.dropna(), X.lotsizesquarefeet.dropna())"
   ]
  },
  {
   "cell_type": "code",
   "execution_count": 25,
   "metadata": {},
   "outputs": [
    {
     "data": {
      "text/plain": [
       "(0.19837562297566522, 1.7514534127171134e-245)"
      ]
     },
     "execution_count": 25,
     "metadata": {},
     "output_type": "execute_result"
    }
   ],
   "source": [
    "features = ['poolsizesum', 'lotsizesquarefeet']\n",
    "X = data_file[features]\n",
    "X = X.dropna()\n",
    "scipy.stats.pearsonr(X.poolsizesum.dropna(), X.lotsizesquarefeet.dropna())"
   ]
  },
  {
   "cell_type": "code",
   "execution_count": 26,
   "metadata": {},
   "outputs": [
    {
     "data": {
      "text/plain": [
       "(0.026128054259829555, 1.2525424323911744e-05)"
      ]
     },
     "execution_count": 26,
     "metadata": {},
     "output_type": "execute_result"
    }
   ],
   "source": [
    "features = ['poolsizesum', 'numberofstories']\n",
    "X = data_file[features]\n",
    "X = X.dropna()\n",
    "scipy.stats.pearsonr(X.poolsizesum.dropna(), X.numberofstories.dropna())"
   ]
  },
  {
   "cell_type": "code",
   "execution_count": 27,
   "metadata": {},
   "outputs": [
    {
     "data": {
      "text/plain": [
       "(0.30455782083792848, 0.0)"
      ]
     },
     "execution_count": 27,
     "metadata": {},
     "output_type": "execute_result"
    }
   ],
   "source": [
    "features = ['taxamount', 'garagetotalsqft']\n",
    "X = data_file[features]\n",
    "X = X.dropna()\n",
    "scipy.stats.pearsonr(X.taxamount.dropna(), X.garagetotalsqft.dropna())"
   ]
  },
  {
   "cell_type": "code",
   "execution_count": 28,
   "metadata": {},
   "outputs": [
    {
     "data": {
      "text/plain": [
       "(0.38606616797071192, 0.0)"
      ]
     },
     "execution_count": 28,
     "metadata": {},
     "output_type": "execute_result"
    }
   ],
   "source": [
    "features = ['lotsizesquarefeet', 'finishedfloor1squarefeet']\n",
    "X = data_file[features]\n",
    "X = X.dropna()\n",
    "scipy.stats.pearsonr(X.lotsizesquarefeet.dropna(), X.finishedfloor1squarefeet.dropna())"
   ]
  },
  {
   "cell_type": "code",
   "execution_count": 29,
   "metadata": {},
   "outputs": [
    {
     "data": {
      "text/plain": [
       "(0.22506944813836596, 0.0)"
      ]
     },
     "execution_count": 29,
     "metadata": {},
     "output_type": "execute_result"
    }
   ],
   "source": [
    "features = ['landtaxvaluedollarcnt', 'garagetotalsqft']\n",
    "X = data_file[features]\n",
    "X = X.dropna()\n",
    "scipy.stats.pearsonr(X.landtaxvaluedollarcnt.dropna(), X.garagetotalsqft.dropna())"
   ]
  },
  {
   "cell_type": "code",
   "execution_count": 30,
   "metadata": {},
   "outputs": [
    {
     "data": {
      "text/plain": [
       "(0.25523301942384707, 0.0)"
      ]
     },
     "execution_count": 30,
     "metadata": {},
     "output_type": "execute_result"
    }
   ],
   "source": [
    "features = ['taxamount', 'poolsizesum']\n",
    "X = data_file[features]\n",
    "X = X.dropna()\n",
    "scipy.stats.pearsonr(X.taxamount.dropna(), X.poolsizesum.dropna())"
   ]
  },
  {
   "cell_type": "code",
   "execution_count": 31,
   "metadata": {},
   "outputs": [
    {
     "data": {
      "text/plain": [
       "(0.19837562297566522, 1.7514534127171134e-245)"
      ]
     },
     "execution_count": 31,
     "metadata": {},
     "output_type": "execute_result"
    }
   ],
   "source": [
    "features = ['lotsizesquarefeet', 'poolsizesum']\n",
    "X = data_file[features]\n",
    "X = X.dropna()\n",
    "scipy.stats.pearsonr(X.lotsizesquarefeet.dropna(), X.poolsizesum.dropna())"
   ]
  },
  {
   "cell_type": "code",
   "execution_count": 32,
   "metadata": {},
   "outputs": [
    {
     "data": {
      "text/plain": [
       "(0.21874133318833114, 4.7320428299313185e-300)"
      ]
     },
     "execution_count": 32,
     "metadata": {},
     "output_type": "execute_result"
    }
   ],
   "source": [
    "features = ['landtaxvaluedollarcnt', 'poolsizesum']\n",
    "X = data_file[features]\n",
    "X = X.dropna()\n",
    "scipy.stats.pearsonr(X.landtaxvaluedollarcnt.dropna(), X.poolsizesum.dropna())"
   ]
  },
  {
   "cell_type": "code",
   "execution_count": 33,
   "metadata": {},
   "outputs": [
    {
     "data": {
      "text/plain": [
       "(0.50566577769246868, 0.0)"
      ]
     },
     "execution_count": 33,
     "metadata": {},
     "output_type": "execute_result"
    }
   ],
   "source": [
    "features = ['taxamount', 'finishedfloor1squarefeet']\n",
    "X = data_file[features]\n",
    "X = X.dropna()\n",
    "scipy.stats.pearsonr(X.taxamount.dropna(), X.finishedfloor1squarefeet.dropna())"
   ]
  },
  {
   "cell_type": "code",
   "execution_count": 34,
   "metadata": {},
   "outputs": [
    {
     "data": {
      "text/plain": [
       "(0.41621673723859476, 0.0)"
      ]
     },
     "execution_count": 34,
     "metadata": {},
     "output_type": "execute_result"
    }
   ],
   "source": [
    "features = ['landtaxvaluedollarcnt', 'finishedfloor1squarefeet']\n",
    "X = data_file[features]\n",
    "X = X.dropna()\n",
    "scipy.stats.pearsonr(X.landtaxvaluedollarcnt.dropna(), X.finishedfloor1squarefeet.dropna())"
   ]
  },
  {
   "cell_type": "markdown",
   "metadata": {},
   "source": [
    "### Creating another data frame for second heatmap"
   ]
  },
  {
   "cell_type": "code",
   "execution_count": 35,
   "metadata": {},
   "outputs": [],
   "source": [
    "data3 = [{'taxamount': 0.10204691690133319, 'lotsizesquarefeet': 0.0013156198368922433, 'landtaxvaluedollarcnt':0.091278341081512712}, {'taxamount': 0.00364479226088525, 'lotsizesquarefeet': 1, 'landtaxvaluedollarcnt':-0.00029434300036887808}, {'taxamount': 0.30455782083792848, 'lotsizesquarefeet': 0.006889415921447423, 'landtaxvaluedollarcnt':0.22506944813836596}, {'taxamount': 0.25523301942384707, 'lotsizesquarefeet': 0.19837562297566522, 'landtaxvaluedollarcnt':0.21874133318833114}, {'taxamount': 0.50566577769246868, 'lotsizesquarefeet': 0.38606616797071192, 'landtaxvaluedollarcnt':0.41621673723859476}]"
   ]
  },
  {
   "cell_type": "code",
   "execution_count": 36,
   "metadata": {},
   "outputs": [],
   "source": [
    "#importing pyplot and seaborn for visualization\n",
    "from matplotlib import pyplot\n",
    "import seaborn as sns"
   ]
  },
  {
   "cell_type": "markdown",
   "metadata": {},
   "source": [
    "#### Create a data frame for the y axis variables name "
   ]
  },
  {
   "cell_type": "code",
   "execution_count": 37,
   "metadata": {},
   "outputs": [],
   "source": [
    "df = pandas.DataFrame(data2, index=['bathroomcnt', 'bedroomcnt', 'calculatedfinishedsquarefeet', 'structuretaxvaluedollarcnt'])"
   ]
  },
  {
   "cell_type": "markdown",
   "metadata": {},
   "source": [
    "#### The data frame df is given as input to the heatmap, the parameters are overridden having annot = True, so that the labels on the x-axis and y-axis are annoted, the minimum and maximum value of the color bar are changed using vmin and vmax parameters, space is inserted between two cells using linewidths parameter, and shape is decided using the square attribute."
   ]
  },
  {
   "cell_type": "code",
   "execution_count": 38,
   "metadata": {},
   "outputs": [
    {
     "data": {
      "image/png": "[encoded data removed]",
      "text/plain": [
       "<matplotlib.figure.Figure at 0x7f8fe6c411d0>"
      ]
     },
     "metadata": {},
     "output_type": "display_data"
    }
   ],
   "source": [
    "sns.heatmap(df, annot=True, vmin=-1, vmax=1, linewidths=0.5, square=True)\n",
    "pyplot.show()"
   ]
  },
  {
   "cell_type": "markdown",
   "metadata": {},
   "source": [
    "##### In the above heatmap, I found high correlation between bathroomcnt and bedroomcnt. As the number of bathrooms increases the number of bedrooms also increases. Which means that most of the bedrooms have an attached bathroom. There is significant correlation between bathroomcnt and taxvaluedollarcnt, which signifies that as the number of bathrooms increases the tax value also increases. Also, I found a high correlation between bathroomcnt and roomcnt. However, there is not much correlation between bedroomcnt and roomcnt. Also, low correlation between bedroomcnt and fireplacecnt. I think this is because people do not prefer to have fireplace in their bedrooms. The correlation between bedroomcnt and taxvaluedollarcnt is less. I think this is because at some places the tax values might already be high for less number of bedrooms while at some places it might be more or more number of bedrooms hence compensating the former one. Hence, the correlation might be less. The correlation between calculatedfinishedsquarefeet and roomcnt is very less. The reason might be that at some places the house might have a very large square feet area but might have just 1 or 2 rooms. while at some places, there might be houses having comparatively lesser square feet area but might have 2 to 3 rooms. These both cases might act as an outlier because of which the correlation came out to be less. The correlation between calculated finished square feet and taxvaluedollarcnt is high, suggesting us that as the square feet of a house increases the tax value also increases. The correlation between structuretaxvaluedollarcnt and fireplacecnt is significantly higher. I think this is because of a lot of structure work is required to build fireplace, because of which the structure tax value got high. However, there is negative correlation between structure tax value dollar cnt and roomcnt. I think this might be because some places have abatement of taxes, or at some places there are less taxes as compared to other places. Hence these records might have influenced the correlation turning it out to be negative. The correlation between structuretaxvaluedollarcnt and taxvaluedollarcnt is high, which was expected. There is little correlation between structure tax value dollar cnt and bedroomcnt.\n"
   ]
  },
  {
   "cell_type": "markdown",
   "metadata": {},
   "source": [
    "#### Similarly, data frame for the labels of the second heatmap is also created, which is given input to the heatmap function. "
   ]
  },
  {
   "cell_type": "code",
   "execution_count": null,
   "metadata": {},
   "outputs": [],
   "source": []
  },
  {
   "cell_type": "code",
   "execution_count": 39,
   "metadata": {},
   "outputs": [
    {
     "data": {
      "image/png": "[encoded data removed]",
      "text/plain": [
       "<matplotlib.figure.Figure at 0x7f8fe6a512e8>"
      ]
     },
     "metadata": {},
     "output_type": "display_data"
    }
   ],
   "source": [
    "df1 = pandas.DataFrame(data3, index=['numberofstories', 'lotsizesquarefeet', 'garagetotalsqft', 'poolsizesum', 'finishedfloor1squarefeet'])\n",
    "sns.heatmap(df1, annot=True, vmin=-1, vmax=1, linewidths=0.5, square=True)\n",
    "pyplot.show()"
   ]
  },
  {
   "cell_type": "markdown",
   "metadata": {},
   "source": [
    "##### In the above heatmap, there is a low correlation between number of stories and land tax value dollar cnt and also between lot size square feet and land tax value dollar cnt and tax amount. I think this may be because the tax amount depends on what all is build on the lot. For eg, in the graph previous to this one, there is correlation between bathroom count and tax value dollar count, bedroom count and tax value dollar count and finished square feet and tax value dollar count. Also, garage total sqft influences tax amount and land tax value dollar count. From the graph it can be seen that there is correlation between the poolsizesum and tax amount. So, which means if area of pool is increased, more the person has to pay the tax. Tax amount, lot size square feet and land tax value dollar cnt is also correlated to finished floor 1 square feet. As the lot size is increased, the person can build more spacious house, and since he is building more area the tax value also increases."
   ]
  },
  {
   "cell_type": "code",
   "execution_count": null,
   "metadata": {},
   "outputs": [],
   "source": []
  },
  {
   "cell_type": "markdown",
   "metadata": {},
   "source": [
    "# Question 2"
   ]
  },
  {
   "cell_type": "markdown",
   "metadata": {},
   "source": [
    "### I have visualized data using scatter chart, line chart and histogram"
   ]
  },
  {
   "cell_type": "markdown",
   "metadata": {},
   "source": [
    "### Line Chart"
   ]
  },
  {
   "cell_type": "code",
   "execution_count": 40,
   "metadata": {},
   "outputs": [
    {
     "data": {
      "image/png": "[encoded data removed]",
      "text/plain": [
       "<matplotlib.figure.Figure at 0x7f8fe8a0c7b8>"
      ]
     },
     "metadata": {},
     "output_type": "display_data"
    }
   ],
   "source": [
    "features = ['garagecarcnt', 'garagetotalsqft']\n",
    "X = data_file[features]\n",
    "# drop the records even if atleast one of the features contain NaN Value\n",
    "X = X.dropna()\n",
    "sns.pointplot(x=\"garagecarcnt\", y=\"garagetotalsqft\", data=X);\n",
    "pyplot.show()"
   ]
  },
  {
   "cell_type": "markdown",
   "metadata": {},
   "source": [
    "##### As number of cars in a garage increases the garage total square feet also increases. There is a high correlation between the two.\n",
    "##### There is a linear relationship between the two variables. However, there are some exceptions where there are cars but the garage total square feet is less than average or near to 0. I think it might be because of while collecting the data, the person might have asked for how many cars does he own rather than asking how many cars does fit in his garage. Or maybe they have cars but they don't have a garage to park it.\n"
   ]
  },
  {
   "cell_type": "markdown",
   "metadata": {},
   "source": [
    "#### Histogram"
   ]
  },
  {
   "cell_type": "code",
   "execution_count": 41,
   "metadata": {},
   "outputs": [
    {
     "data": {
      "image/png": "[encoded data removed]",
      "text/plain": [
       "<matplotlib.figure.Figure at 0x7f8fe69f1c88>"
      ]
     },
     "metadata": {},
     "output_type": "display_data"
    }
   ],
   "source": [
    "features = ['yardbuildingsqft17']\n",
    "X = data_file[features]\n",
    "X = X.dropna()\n",
    "#kde is made to false otherwise it will show the density distribution of yardbuildingsqft17\n",
    "sns.distplot(X.yardbuildingsqft17, kde=False, rug=False)\n",
    "pyplot.show()"
   ]
  },
  {
   "cell_type": "markdown",
   "metadata": {},
   "source": [
    "##### The above plot shows the histogram of yarbuildingsqft17, depicting the frequency count of yardbuildingsqft17. There are more number of houses having patio area of 300-450 sqft"
   ]
  },
  {
   "cell_type": "markdown",
   "metadata": {},
   "source": [
    "#### Histogram"
   ]
  },
  {
   "cell_type": "code",
   "execution_count": 42,
   "metadata": {},
   "outputs": [
    {
     "data": {
      "image/png": "[encoded data removed]",
      "text/plain": [
       "<matplotlib.figure.Figure at 0x7f8fe87c0f98>"
      ]
     },
     "metadata": {},
     "output_type": "display_data"
    }
   ],
   "source": [
    "features = ['taxdelinquencyyear']\n",
    "X = data_file[features]\n",
    "X = X.dropna()\n",
    "sns.distplot(X.taxdelinquencyyear + 2000, norm_hist = False, kde=False, rug = False)\n",
    "pyplot.show()"
   ]
  },
  {
   "cell_type": "markdown",
   "metadata": {},
   "source": [
    "##### The above histogram shows the distribution of people whose tax due date is past. The number of people not paying taxes have increased significantly in 2014.\n"
   ]
  },
  {
   "cell_type": "markdown",
   "metadata": {},
   "source": [
    "#### Line Chart"
   ]
  },
  {
   "cell_type": "code",
   "execution_count": 43,
   "metadata": {},
   "outputs": [
    {
     "data": {
      "image/png": "[encoded data removed]",
      "text/plain": [
       "<matplotlib.figure.Figure at 0x7f8fe86c4fd0>"
      ]
     },
     "metadata": {},
     "output_type": "display_data"
    }
   ],
   "source": [
    "features = ['roomcnt', 'finishedsquarefeet15']\n",
    "X = data_file[features]\n",
    "X = X.dropna()\n",
    "sns.pointplot(x=\"roomcnt\", y=\"finishedsquarefeet15\", data=X);\n",
    "pyplot.show()"
   ]
  },
  {
   "cell_type": "markdown",
   "metadata": {},
   "source": [
    "#### The above line chart shows that as the number of rooms increases the total area of the house also increases."
   ]
  },
  {
   "cell_type": "markdown",
   "metadata": {},
   "source": [
    "#### Scatter Chart "
   ]
  },
  {
   "cell_type": "code",
   "execution_count": 44,
   "metadata": {},
   "outputs": [
    {
     "data": {
      "image/png": "[encoded data removed]",
      "text/plain": [
       "<matplotlib.figure.Figure at 0x7f8fe84f31d0>"
      ]
     },
     "metadata": {},
     "output_type": "display_data"
    }
   ],
   "source": [
    "features = ['yearbuilt', 'taxamount']\n",
    "X_new = data_file[features]\n",
    "X_new = X_new.dropna()\n",
    "sns.jointplot(x=\"yearbuilt\", y=\"taxamount\", data=X_new)\n",
    "pyplot.show()"
   ]
  },
  {
   "cell_type": "markdown",
   "metadata": {},
   "source": [
    "##### In the above scatter plot, there is high density in the late 1900s, I think this is because more number of houses were built at that time. As the year past by the tax amount increased gradually"
   ]
  },
  {
   "cell_type": "markdown",
   "metadata": {},
   "source": [
    "# Question 3"
   ]
  },
  {
   "cell_type": "code",
   "execution_count": 45,
   "metadata": {},
   "outputs": [],
   "source": [
    "from sklearn import linear_model\n",
    "from sklearn.linear_model import LinearRegression\n",
    "\n",
    "#for spliting data into training and testing set\n",
    "from sklearn.model_selection import train_test_split\n",
    "\n",
    "#to calculate mean square error value and r2 score\n",
    "from sklearn.metrics import mean_squared_error\n",
    "from sklearn.metrics import r2_score"
   ]
  },
  {
   "cell_type": "markdown",
   "metadata": {},
   "source": [
    "### Read the training file"
   ]
  },
  {
   "cell_type": "code",
   "execution_count": 46,
   "metadata": {},
   "outputs": [],
   "source": [
    "train_file = pandas.read_csv('../train_2016_v2.csv/train_2016_v2.csv')"
   ]
  },
  {
   "cell_type": "markdown",
   "metadata": {},
   "source": [
    "#### Do inner join on data_file and the training file on feature 'parcelid'"
   ]
  },
  {
   "cell_type": "code",
   "execution_count": 47,
   "metadata": {},
   "outputs": [],
   "source": [
    "join_tables = pandas.merge(data_file, train_file, on='parcelid', how='inner')"
   ]
  },
  {
   "cell_type": "markdown",
   "metadata": {},
   "source": [
    "#### Create a feature list containing the column names that are required for prediction"
   ]
  },
  {
   "cell_type": "code",
   "execution_count": 48,
   "metadata": {},
   "outputs": [],
   "source": [
    "feature_cols = ['calculatedfinishedsquarefeet', 'fips', 'taxvaluedollarcnt', 'landtaxvaluedollarcnt', 'logerror']\n",
    "X_new = join_tables[feature_cols]\n",
    "#drop the records even if one column contains NA values\n",
    "X_new = X_new.dropna()\n",
    "y_new = X_new['logerror']\n",
    "X_new = X_new.drop('logerror', axis = 1)"
   ]
  },
  {
   "cell_type": "markdown",
   "metadata": {},
   "source": [
    "#### Create the Linear Regression Model"
   ]
  },
  {
   "cell_type": "code",
   "execution_count": 49,
   "metadata": {},
   "outputs": [
    {
     "name": "stdout",
     "output_type": "stream",
     "text": [
      "The coefficients of the features are :  [  8.49229416e-06   4.52460996e-05   1.48526135e-09  -1.16393715e-08]\n",
      "The mean squared error on the testing dataset is:  0.0169875170064\n",
      "The r2 score of on the testing dataset is:  0.00312482685843\n"
     ]
    }
   ],
   "source": [
    "# Test set is taken to be 5% of the entire dataset\n",
    "X_train, X_test, y_train, y_test = train_test_split(X_new, y_new, test_size = 0.05, random_state = 1)\n",
    "linreg = LinearRegression()\n",
    "linreg.fit(X_train, y_train)\n",
    "#print(\"Intercept of the linear regression equation is : \", linreg.intercept_)\n",
    "print(\"The coefficients of the features are : \", linreg.coef_)\n",
    "y_pred = linreg.predict(X_test)\n",
    "print(\"The mean squared error on the testing dataset is: \", mean_squared_error(y_test, y_pred))\n",
    "print(\"The r2 score of on the testing dataset is: \", r2_score(y_test, y_pred))"
   ]
  },
  {
   "cell_type": "markdown",
   "metadata": {},
   "source": [
    "##### Read the submission file and do inner join with the data_file (containing 2.9 million records)\n"
   ]
  },
  {
   "cell_type": "code",
   "execution_count": 73,
   "metadata": {},
   "outputs": [],
   "source": [
    "#preparing the submission file to submit on Kaggle\n",
    "submission_file = pandas.read_csv('../sample_submission.csv')\n",
    "# Rename the column ParcelId to parcelid as column for inner join has to be same in both the tables on which inner join has to be performed\n",
    "submission_file = submission_file.rename(index=str, columns={'ParcelId': 'parcelid'})\n",
    "#merge the data file and the submission file\n",
    "join_tables_to_submit = pandas.merge(data_file, submission_file, on='parcelid', how='inner')"
   ]
  },
  {
   "cell_type": "markdown",
   "metadata": {},
   "source": [
    "#### Replace the feature columns having NAN values with the mean of that particular column"
   ]
  },
  {
   "cell_type": "code",
   "execution_count": 74,
   "metadata": {},
   "outputs": [],
   "source": [
    "mean_fips = numpy.mean(join_tables_to_submit.fips)\n",
    "mean_calculatedfinishedsquarefeet = numpy.mean(join_tables_to_submit.calculatedfinishedsquarefeet)\n",
    "mean_taxvaluedollarcnt = numpy.mean(join_tables_to_submit.taxvaluedollarcnt)\n",
    "mean_landtaxvaluedollarcnt = numpy.mean(join_tables_to_submit.landtaxvaluedollarcnt)\n",
    "\n",
    "join_tables_to_submit.taxvaluedollarcnt = join_tables_to_submit.taxvaluedollarcnt.fillna(mean_taxvaluedollarcnt)\n",
    "join_tables_to_submit.landtaxvaluedollarcnt = join_tables_to_submit.landtaxvaluedollarcnt.fillna(mean_taxvaluedollarcnt)\n",
    "join_tables_to_submit.fips = join_tables_to_submit.fips.fillna(mean_fips)\n",
    "join_tables_to_submit.calculatedfinishedsquarefeet = join_tables_to_submit.calculatedfinishedsquarefeet.fillna(mean_calculatedfinishedsquarefeet)"
   ]
  },
  {
   "cell_type": "markdown",
   "metadata": {},
   "source": [
    "#### Create a list of feature columns to test\n"
   ]
  },
  {
   "cell_type": "code",
   "execution_count": 75,
   "metadata": {},
   "outputs": [],
   "source": [
    "feature_columns_to_test = ['calculatedfinishedsquarefeet', 'taxvaluedollarcnt', 'landtaxvaluedollarcnt', 'fips']\n",
    "X_new = join_tables_to_submit[feature_columns_to_test]\n",
    "#X_new = X_new.dropna()\n",
    "#X_new = X_new.drop('parcelid', axis = 1)"
   ]
  },
  {
   "cell_type": "markdown",
   "metadata": {},
   "source": [
    "#### Predict the values of log error\n"
   ]
  },
  {
   "cell_type": "code",
   "execution_count": null,
   "metadata": {},
   "outputs": [],
   "source": [
    "y_pred = linreg.predict(X_new)"
   ]
  },
  {
   "cell_type": "markdown",
   "metadata": {},
   "source": [
    "#### Create the submission file by adding predicted values to the columns\n"
   ]
  },
  {
   "cell_type": "code",
   "execution_count": null,
   "metadata": {},
   "outputs": [],
   "source": [
    "submission_file['201610'] = y_pred\n",
    "submission_file['201611'] = y_pred\n",
    "submission_file['201612'] = y_pred\n",
    "submission_file['201710'] = y_pred\n",
    "submission_file['201711'] = y_pred\n",
    "submission_file['201712'] = y_pred"
   ]
  },
  {
   "cell_type": "code",
   "execution_count": null,
   "metadata": {},
   "outputs": [],
   "source": [
    "submission_file.to_csv(\"final_submission_4.csv\", index=False)"
   ]
  },
  {
   "cell_type": "markdown",
   "metadata": {},
   "source": [
    "##### I have made a linear regression model to predict the log error as a function of calculated finished square feet, tax value dollar count, land tax value dollar count and fips. Among these all variables I found fips variable the most important one, by looking at the coefficients of the feature variables. It has the maximum coefficient value. Hence, it influences the log error higher than other variables.\n",
    "##### The linear regression model performed well considering the fact that only 2 variables were taken into consideration. It got low mean square error value of 0.01698 and r2 score of 0.00312 on testing of 5% of the entire dataset. "
   ]
  },
  {
   "cell_type": "markdown",
   "metadata": {},
   "source": [
    "# Question 4"
   ]
  },
  {
   "cell_type": "markdown",
   "metadata": {},
   "source": [
    "#### I implemented Support Vector Machine Regressor to predict the log error, I took the same features I took for Linear Regression. I found that the squared mean error value was decreased, however r2 score turned out to be negative. When I submitted the predictions done by this model, the score was worse than the score of the Linear Regressor. So, as compared to Linear Regression, SVM did not perform well provided the same set of features are chosen."
   ]
  },
  {
   "cell_type": "code",
   "execution_count": 50,
   "metadata": {},
   "outputs": [],
   "source": [
    "from sklearn import svm"
   ]
  },
  {
   "cell_type": "markdown",
   "metadata": {},
   "source": [
    "#### List of feature columns is made\n"
   ]
  },
  {
   "cell_type": "code",
   "execution_count": 51,
   "metadata": {},
   "outputs": [],
   "source": [
    "feature_cols = ['calculatedfinishedsquarefeet', 'fips', 'taxvaluedollarcnt', 'landtaxvaluedollarcnt', 'logerror']\n",
    "X_new = join_tables[feature_cols]\n",
    "#records having nan values in any column of a record is dropped \n",
    "X_new = X_new.dropna()\n",
    "y_new = X_new['logerror']\n",
    "X_new = X_new.drop('logerror', axis = 1)"
   ]
  },
  {
   "cell_type": "markdown",
   "metadata": {},
   "source": [
    "#### Dataset is splitted into training and testing set, where test size is taken to be 5% of the entire dataset\n"
   ]
  },
  {
   "cell_type": "code",
   "execution_count": 52,
   "metadata": {},
   "outputs": [
    {
     "name": "stdout",
     "output_type": "stream",
     "text": [
      "Mean Squared Error value:  0.0175178710114\n",
      "r2 score:  -0.0279978345822\n"
     ]
    }
   ],
   "source": [
    "X_train, X_test, y_train, y_test = train_test_split(X_new, y_new, test_size = 0.05, random_state = 1)\n",
    "model_svm = svm.SVR()\n",
    "model_svm.fit(X_train, y_train)\n",
    "y_pred = model_svm.predict(X_test)\n",
    "print(\"Mean Squared Error value: \", mean_squared_error(y_test, y_pred))\n",
    "print(\"r2 score: \", r2_score(y_test, y_pred))"
   ]
  },
  {
   "cell_type": "markdown",
   "metadata": {},
   "source": [
    "#### Read the submission file and do inner join with the data_file(the dataset containing 2.9 million records)\n"
   ]
  },
  {
   "cell_type": "code",
   "execution_count": null,
   "metadata": {},
   "outputs": [],
   "source": [
    "#preparing the submission file to submit on Kaggle \n",
    "\n",
    "submission_file = pandas.read_csv('../sample_submission.csv')\n",
    "submission_file = submission_file.rename(index=str, columns={'ParcelId': 'parcelid'})\n",
    "join_tables_to_submit = pandas.merge(data_file, submission_file, on='parcelid', how='inner')\n",
    "\n",
    "# replace the NaN values of the feature columns with their mean values\n",
    "mean_fips = numpy.mean(join_tables_to_submit.fips)\n",
    "mean_calculatedfinishedsquarefeet = numpy.mean(join_tables_to_submit.calculatedfinishedsquarefeet)\n",
    "mean_taxvaluedollarcnt = numpy.mean(join_tables_to_submit.taxvaluedollarcnt)\n",
    "mean_landtaxvaluedollarcnt = numpy.mean(join_tables_to_submit.landtaxvaluedollarcnt)\n",
    "\n",
    "join_tables_to_submit.taxvaluedollarcnt = join_tables_to_submit.taxvaluedollarcnt.fillna(mean_taxvaluedollarcnt)\n",
    "join_tables_to_submit.landtaxvaluedollarcnt = join_tables_to_submit.landtaxvaluedollarcnt.fillna(mean_landtaxvaluedollarcnt)\n",
    "join_tables_to_submit.fips = join_tables_to_submit.fips.fillna(mean_fips)\n",
    "join_tables_to_submit.calculatedfinishedsquarefeet = join_tables_to_submit.calculatedfinishedsquarefeet.fillna(mean_calculatedfinishedsquarefeet)"
   ]
  },
  {
   "cell_type": "markdown",
   "metadata": {},
   "source": [
    "#### Now join_tables_to_submit contains only the feature columns without NaN values\n"
   ]
  },
  {
   "cell_type": "code",
   "execution_count": null,
   "metadata": {},
   "outputs": [],
   "source": [
    "feature_cols = ['parcelid', 'calculatedfinishedsquarefeet', 'fips', 'taxvaluedollarcnt', 'landtaxvaluedollarcnt']\n",
    "X_new = join_tables_to_submit[feature_cols]\n",
    "#X_new = X_new.dropna()\n",
    "X_new = X_new.drop('parcelid', axis = 1)"
   ]
  },
  {
   "cell_type": "markdown",
   "metadata": {},
   "source": [
    "#### Predict the logerror using the dataset given to test\n"
   ]
  },
  {
   "cell_type": "code",
   "execution_count": null,
   "metadata": {},
   "outputs": [],
   "source": [
    "y_pred = model.predict(X_new)\n",
    "#write the predictions to the submission file\n",
    "submission_file['201610'] = y_pred\n",
    "submission_file['201611'] = y_pred\n",
    "submission_file['201612'] = y_pred\n",
    "submission_file['201710'] = y_pred\n",
    "submission_file['201711'] = y_pred\n",
    "submission_file['201712'] = y_pred\n",
    "submission_file.to_csv(\"final_submission_6.csv\", index=False)"
   ]
  },
  {
   "cell_type": "markdown",
   "metadata": {},
   "source": [
    "## Lasso Regression"
   ]
  },
  {
   "cell_type": "markdown",
   "metadata": {},
   "source": [
    "#### I implemented Lasso Regression using the same set of attributes used in Linear Regression and SVM. However, the coefficient of one variable turned out to be 0. I found that Lasso Regression is faster than the other two. It's mean square error value did get decrease as from the value I got in Linear Regression and SVM. Also, it's r2 score was positive though it was less and near to zero. I made a submission of predictions to Kaggle, the score was worse than SVM and Linear Regression. "
   ]
  },
  {
   "cell_type": "code",
   "execution_count": 53,
   "metadata": {},
   "outputs": [],
   "source": [
    "#create the list of attributes for prediction of logerror\n",
    "feature_cols = ['calculatedfinishedsquarefeet', 'fips', 'taxvaluedollarcnt', 'landtaxvaluedollarcnt', 'logerror']\n",
    "X_new = join_tables[feature_cols]\n",
    "# drop the records even if any one of its attribute contains NaN values\n",
    "X_new = X_new.dropna()\n",
    "y_new = X_new['logerror']\n",
    "X_new = X_new.drop('logerror', axis = 1)"
   ]
  },
  {
   "cell_type": "markdown",
   "metadata": {},
   "source": [
    "#### Create the training and testing set from the entire dataset keeping the test size to 5%\n"
   ]
  },
  {
   "cell_type": "code",
   "execution_count": 54,
   "metadata": {},
   "outputs": [
    {
     "name": "stdout",
     "output_type": "stream",
     "text": [
      "Coefficients of the attributes:  [  8.32092985e-06   0.00000000e+00   2.29653287e-09  -1.25292450e-08]\n",
      "Intercept Value of the model:  -0.000800962147268\n"
     ]
    }
   ],
   "source": [
    "X_train, X_test, y_train, y_test = train_test_split(X_new, y_new, test_size = 0.05, random_state = 1)\n",
    "lasso_regression = linear_model.Lasso(alpha=0.1)\n",
    "lasso_regression.fit(X_train, y_train)\n",
    "print(\"Coefficients of the attributes: \", lasso_regression.coef_)\n",
    "print(\"Intercept Value of the model: \", lasso_regression.intercept_)\n",
    "#predict the logerror of the testing set\n",
    "y_pred_lasso = lasso_regression.predict(X_test)"
   ]
  },
  {
   "cell_type": "code",
   "execution_count": 55,
   "metadata": {},
   "outputs": [
    {
     "name": "stdout",
     "output_type": "stream",
     "text": [
      "Mean Squared Error value:  0.0169827951958\n",
      "r2 score:  0.00340191595686\n"
     ]
    }
   ],
   "source": [
    "print(\"Mean Squared Error value: \", mean_squared_error(y_test, y_pred_lasso))\n",
    "print(\"r2 score: \", r2_score(y_test, y_pred_lasso))"
   ]
  },
  {
   "cell_type": "markdown",
   "metadata": {},
   "source": [
    "#### Read the submission file and merge it with the data_file containing 2.9 million records\n"
   ]
  },
  {
   "cell_type": "code",
   "execution_count": 108,
   "metadata": {},
   "outputs": [],
   "source": [
    "#preparing the submission file to submit on Kaggle \n",
    "submission_file = pandas.read_csv('../sample_submission.csv')\n",
    "submission_file = submission_file.rename(index=str, columns={'ParcelId': 'parcelid'})\n",
    "join_tables_to_submit = pandas.merge(data_file, submission_file, on='parcelid', how='inner')\n",
    "\n",
    "#replace the NaN values of the columns with their mean values\n",
    "mean_fips = numpy.mean(join_tables_to_submit.fips)\n",
    "mean_calculatedfinishedsquarefeet = numpy.mean(join_tables_to_submit.calculatedfinishedsquarefeet)\n",
    "mean_taxvaluedollarcnt = numpy.mean(join_tables_to_submit.taxvaluedollarcnt)\n",
    "mean_landtaxvaluedollarcnt = numpy.mean(join_tables_to_submit.landtaxvaluedollarcnt)\n",
    "\n",
    "join_tables_to_submit.taxvaluedollarcnt = join_tables_to_submit.taxvaluedollarcnt.fillna(mean_taxvaluedollarcnt)\n",
    "join_tables_to_submit.landtaxvaluedollarcnt = join_tables_to_submit.landtaxvaluedollarcnt.fillna(mean_landtaxvaluedollarcnt)\n",
    "join_tables_to_submit.fips = join_tables_to_submit.fips.fillna(mean_fips)\n",
    "join_tables_to_submit.calculatedfinishedsquarefeet = join_tables_to_submit.calculatedfinishedsquarefeet.fillna(mean_calculatedfinishedsquarefeet)"
   ]
  },
  {
   "cell_type": "code",
   "execution_count": null,
   "metadata": {},
   "outputs": [],
   "source": [
    "feature_cols = ['calculatedfinishedsquarefeet', 'fips', 'taxvaluedollarcnt', 'landtaxvaluedollarcnt']\n",
    "X_new = join_tables_to_submit[feature_cols]"
   ]
  },
  {
   "cell_type": "markdown",
   "metadata": {},
   "source": [
    "#### Make predictions of the dataset to submit and write those prediction values to the submission file. Convert this data frame to csv file\n"
   ]
  },
  {
   "cell_type": "code",
   "execution_count": null,
   "metadata": {},
   "outputs": [],
   "source": [
    "y_pred = model.predict(X_new)\n",
    "# write this prediction values to the submission file\n",
    "submission_file['201610'] = y_pred\n",
    "submission_file['201611'] = y_pred\n",
    "submission_file['201612'] = y_pred\n",
    "submission_file['201710'] = y_pred\n",
    "submission_file['201711'] = y_pred\n",
    "submission_file['201712'] = y_pred\n",
    "# converting this data frame to csv format\n",
    "submission_file.to_csv(\"final_submission_11.csv\", index=False)"
   ]
  },
  {
   "cell_type": "markdown",
   "metadata": {},
   "source": [
    "## KNN Regressor"
   ]
  },
  {
   "cell_type": "markdown",
   "metadata": {},
   "source": [
    "#### I implemented K Nearest Neighbors using the same attributes as that I used in Linear Regression, SVM and Lasso Regression. The Mean Squared Error value was more than Linear Regression, however, on less number of neighbors r2 score came out to be negative. When the number of neighbors was increased to 1080, then the r2 score turned out to be positive but very close to 0. However, with such high number of neighbors, it took a lot of time for prediction of 2.9 million records."
   ]
  },
  {
   "cell_type": "code",
   "execution_count": 56,
   "metadata": {},
   "outputs": [],
   "source": [
    "from sklearn.neighbors import KNeighborsRegressor"
   ]
  },
  {
   "cell_type": "code",
   "execution_count": 57,
   "metadata": {},
   "outputs": [],
   "source": [
    "knn_model = KNeighborsRegressor(n_neighbors = 1080)"
   ]
  },
  {
   "cell_type": "markdown",
   "metadata": {},
   "source": [
    "#### Create the list of attributes for prediction of logerror"
   ]
  },
  {
   "cell_type": "code",
   "execution_count": 58,
   "metadata": {},
   "outputs": [],
   "source": [
    "feature_cols = ['calculatedfinishedsquarefeet', 'fips', 'taxvaluedollarcnt', 'landtaxvaluedollarcnt', 'logerror']\n",
    "X_new = join_tables[feature_cols]\n",
    "# drop the records even if any one of its attribute contains NaN values\n",
    "X_new = X_new.dropna()\n",
    "y_new = X_new['logerror']\n",
    "X_new = X_new.drop('logerror', axis = 1)"
   ]
  },
  {
   "cell_type": "markdown",
   "metadata": {},
   "source": [
    "#### Split the dataset into testing and training set "
   ]
  },
  {
   "cell_type": "code",
   "execution_count": 59,
   "metadata": {},
   "outputs": [
    {
     "data": {
      "text/plain": [
       "KNeighborsRegressor(algorithm='auto', leaf_size=30, metric='minkowski',\n",
       "          metric_params=None, n_jobs=1, n_neighbors=1080, p=2,\n",
       "          weights='uniform')"
      ]
     },
     "execution_count": 59,
     "metadata": {},
     "output_type": "execute_result"
    }
   ],
   "source": [
    "# Test size is considered to be 5%\n",
    "X_train, X_test, y_train, y_test = train_test_split(X_new, y_new, test_size = 0.05, random_state = 1)\n",
    "knn_model.fit(X_train, y_train)"
   ]
  },
  {
   "cell_type": "markdown",
   "metadata": {},
   "source": [
    "#### Predict the log error on the Testing set"
   ]
  },
  {
   "cell_type": "code",
   "execution_count": 60,
   "metadata": {},
   "outputs": [
    {
     "name": "stdout",
     "output_type": "stream",
     "text": [
      "Mean Squared Error Value on testing set:  0.0170341793884\n",
      "r2 score on the testing set:  0.000386547326443\n"
     ]
    }
   ],
   "source": [
    "y_pred_knn = knn_model.predict(X_test)\n",
    "print(\"Mean Squared Error Value on testing set: \", mean_squared_error(y_test, y_pred_knn))\n",
    "print(\"r2 score on the testing set: \", r2_score(y_test, y_pred_knn))"
   ]
  },
  {
   "cell_type": "markdown",
   "metadata": {},
   "source": [
    "#### Read the submission file and merge it with the data_file containing 2.9 million records\n"
   ]
  },
  {
   "cell_type": "code",
   "execution_count": null,
   "metadata": {},
   "outputs": [],
   "source": [
    "#preparing the submission file to submit on Kaggle \n",
    "submission_file = pandas.read_csv('../sample_submission.csv')\n",
    "submission_file = submission_file.rename(index=str, columns={'ParcelId': 'parcelid'})\n",
    "join_tables_to_submit = pandas.merge(data_file, submission_file, on='parcelid', how='inner')\n",
    "\n",
    "#Replace the columns having NaN values with their respective mean values\n",
    "mean_fips = numpy.mean(join_tables_to_submit.fips)\n",
    "mean_calculatedfinishedsquarefeet = numpy.mean(join_tables_to_submit.calculatedfinishedsquarefeet)\n",
    "mean_taxvaluedollarcnt = numpy.mean(join_tables_to_submit.taxvaluedollarcnt)\n",
    "mean_landtaxvaluedollarcnt = numpy.mean(join_tables_to_submit.landtaxvaluedollarcnt)\n",
    "\n",
    "join_tables_to_submit.taxvaluedollarcnt = join_tables_to_submit.taxvaluedollarcnt.fillna(mean_taxvaluedollarcnt)\n",
    "join_tables_to_submit.landtaxvaluedollarcnt = join_tables_to_submit.landtaxvaluedollarcnt.fillna(mean_landtaxvaluedollarcnt)\n",
    "join_tables_to_submit.fips = join_tables_to_submit.fips.fillna(mean_fips)\n",
    "join_tables_to_submit.calculatedfinishedsquarefeet = join_tables_to_submit.calculatedfinishedsquarefeet.fillna(mean_calculatedfinishedsquarefeet)"
   ]
  },
  {
   "cell_type": "code",
   "execution_count": null,
   "metadata": {},
   "outputs": [],
   "source": [
    "feature_cols = ['parcelid', 'calculatedfinishedsquarefeet', 'fips', 'taxvaluedollarcnt', 'landtaxvaluedollarcnt']\n",
    "X_new = join_tables_to_submit[feature_cols]\n",
    "#X_new = X_new.dropna()\n",
    "X_new = X_new.drop('parcelid', axis = 1)"
   ]
  },
  {
   "cell_type": "code",
   "execution_count": null,
   "metadata": {},
   "outputs": [],
   "source": [
    "y_pred_knn = knn_model.predict(X_new)"
   ]
  },
  {
   "cell_type": "code",
   "execution_count": null,
   "metadata": {},
   "outputs": [],
   "source": [
    "submission_file['201610'] = y_pred_knn\n",
    "submission_file['201611'] = y_pred_knn\n",
    "submission_file['201612'] = y_pred_knn\n",
    "submission_file['201710'] = y_pred_knn\n",
    "submission_file['201711'] = y_pred_knn\n",
    "submission_file['201712'] = y_pred_knn"
   ]
  },
  {
   "cell_type": "code",
   "execution_count": null,
   "metadata": {},
   "outputs": [],
   "source": [
    "submission_file.to_csv(\"final_submission_8.csv\", index=False)"
   ]
  }
 ],
 "metadata": {
  "kernelspec": {
   "display_name": "Python 3",
   "language": "python",
   "name": "python3"
  },
  "language_info": {
   "codemirror_mode": {
    "name": "ipython",
    "version": 3
   },
   "file_extension": ".py",
   "mimetype": "text/x-python",
   "name": "python",
   "nbconvert_exporter": "python",
   "pygments_lexer": "ipython3",
   "version": "3.4.3"
  }
 },
 "nbformat": 4,
 "nbformat_minor": 2
}
